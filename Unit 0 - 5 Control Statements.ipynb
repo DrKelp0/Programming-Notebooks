{
 "cells": [
  {
   "cell_type": "markdown",
   "metadata": {},
   "source": [
    "# Control Statements\n",
    "\n",
    "![Hello!](https://media.giphy.com/media/ASd0Ukj0y3qMM/giphy.gif)"
   ]
  },
  {
   "cell_type": "markdown",
   "metadata": {},
   "source": [
    "# Skills\n",
    "* understand if statements\n",
    "* understand why we use elif instead of else in some cases"
   ]
  },
  {
   "cell_type": "markdown",
   "metadata": {},
   "source": [
    "## `if` statements\n",
    "We can branch code using contr\n",
    "ol statements.  \n",
    "We can do that using `if` statements.\n",
    "\n",
    "![Branching from https://programarcadegames.com](http://programarcadegames.com/chapters/03_if_statements/flowchart1_thumb.png)"
   ]
  },
  {
   "cell_type": "code",
   "execution_count": 1,
   "metadata": {
    "tags": []
   },
   "outputs": [
    {
     "name": "stdin",
     "output_type": "stream",
     "text": [
      "First Value:  12\n",
      "Second Value:  143\n"
     ]
    },
    {
     "name": "stdout",
     "output_type": "stream",
     "text": [
      "a is less than b\n",
      "Done\n"
     ]
    }
   ],
   "source": [
    "# ask the user for two values:\n",
    "# floats are decimal numbers\n",
    "# cast numbers as floats or ints\n",
    "a = float(input('First Value: '))\n",
    "b = float(input('Second Value: '))\n",
    "\n",
    "if a < b:\n",
    "    print(\"a is less than b\")\n",
    "    \n",
    "if b < a:\n",
    "    print(\"b is less than a\")\n",
    "\n",
    "print(\"Done\")"
   ]
  },
  {
   "cell_type": "markdown",
   "metadata": {},
   "source": [
    "## `elif` and `else` "
   ]
  },
  {
   "cell_type": "code",
   "execution_count": 8,
   "metadata": {},
   "outputs": [
    {
     "name": "stdin",
     "output_type": "stream",
     "text": [
      "Enter a number:  78\n"
     ]
    },
    {
     "name": "stdout",
     "output_type": "stream",
     "text": [
      "You got points\n",
      "Good job\n"
     ]
    }
   ],
   "source": [
    "# get input from user\n",
    "x = float(input('Enter a number: '))\n",
    "\n",
    "if x > 100:\n",
    "    print(\"You got so many points\")\n",
    "    print(\"Awesome work!\")\n",
    "elif x > 90:\n",
    "    print(\"You got lots of points\")\n",
    "    print(\"Well done!\")\n",
    "elif x > 70:\n",
    "    print(\"You got points\")\n",
    "    print(\"Good job\")\n",
    "elif x > 50:\n",
    "    print(\"You'll get it next time!\")\n",
    "else:\n",
    "    print(\"You'll need to practice a little more\")"
   ]
  },
  {
   "cell_type": "markdown",
   "metadata": {},
   "source": [
    "## Booleans\n",
    "\n",
    "**Booleans** are a _**datatype**_.  \n",
    "Thier values are either `True` or `False` in Python.\n",
    "\n",
    "Note:  \n",
    "Know the distinction between `'True'` and `True`  \n",
    "and equally `'False'` and `False`"
   ]
  },
  {
   "cell_type": "markdown",
   "metadata": {},
   "source": [
    "### _Aside: Checking Data Types_\n",
    "\n",
    "If you want to check the type of data, use, the function `type()`."
   ]
  },
  {
   "cell_type": "code",
   "execution_count": 2,
   "metadata": {},
   "outputs": [
    {
     "data": {
      "text/plain": [
       "bool"
      ]
     },
     "execution_count": 2,
     "metadata": {},
     "output_type": "execute_result"
    }
   ],
   "source": [
    "type(True)"
   ]
  },
  {
   "cell_type": "code",
   "execution_count": 3,
   "metadata": {},
   "outputs": [
    {
     "data": {
      "text/plain": [
       "str"
      ]
     },
     "execution_count": 3,
     "metadata": {},
     "output_type": "execute_result"
    }
   ],
   "source": [
    "type(\"True\")"
   ]
  },
  {
   "cell_type": "markdown",
   "metadata": {},
   "source": [
    "## Boolean Expressions\n",
    "\n",
    "Boolean expressions are operations that evaluate to booleans."
   ]
  },
  {
   "cell_type": "code",
   "execution_count": 14,
   "metadata": {},
   "outputs": [
    {
     "name": "stdout",
     "output_type": "stream",
     "text": [
      "False\n",
      "You'll need an umbrella.\n"
     ]
    }
   ],
   "source": [
    "is_raining = True\n",
    "is_cloudy = False\n",
    "\n",
    "print(is_raining and is_cloudy)\n",
    "\n",
    "if is_raining or is_cloudy:\n",
    "    print(\"You'll need an umbrella.\")\n",
    "elif is_cloudy and not is_raining:\n",
    "    print(\"An umbrella is a good idea.\")\n",
    "else:\n",
    "    print(\"Leave your umbrella at home.\")"
   ]
  },
  {
   "cell_type": "markdown",
   "metadata": {},
   "source": [
    "## Boolean Variables\n",
    "\n",
    "Variables can be booleans as well."
   ]
  },
  {
   "cell_type": "code",
   "execution_count": null,
   "metadata": {},
   "outputs": [],
   "source": [
    "has_quest_item_one = False"
   ]
  },
  {
   "cell_type": "markdown",
   "metadata": {},
   "source": [
    "## Boolean Operators\n",
    "\n",
    "### Using `not`\n",
    "`not` is a unary operator  \n",
    "You only need **one operand**."
   ]
  },
  {
   "cell_type": "code",
   "execution_count": 17,
   "metadata": {},
   "outputs": [
    {
     "data": {
      "text/plain": [
       "True"
      ]
     },
     "execution_count": 17,
     "metadata": {},
     "output_type": "execute_result"
    }
   ],
   "source": [
    "not not True"
   ]
  },
  {
   "cell_type": "markdown",
   "metadata": {},
   "source": [
    "### Using `and` and `or`\n",
    "`and` and `or` are binary operators.  \n",
    "You need **two operands** to use them."
   ]
  },
  {
   "cell_type": "code",
   "execution_count": 1,
   "metadata": {},
   "outputs": [
    {
     "ename": "SyntaxError",
     "evalue": "invalid syntax (557810212.py, line 60)",
     "output_type": "error",
     "traceback": [
      "\u001b[0;36m  File \u001b[0;32m\"/var/folders/9t/rwjh4cq159sbyp0qpp3hzy4r0000gz/T/ipykernel_72158/557810212.py\"\u001b[0;36m, line \u001b[0;32m60\u001b[0m\n\u001b[0;31m    if score_e\u001b[0m\n\u001b[0m              ^\u001b[0m\n\u001b[0;31mSyntaxError\u001b[0m\u001b[0;31m:\u001b[0m invalid syntax\n"
     ]
    }
   ],
   "source": [
    "True or False\n",
    "# Quiz Creation Activity\n",
    "\n",
    "# Quiz has 5 questions the user will answer\n",
    "# It will keep track of score and give\n",
    "# a final result\n",
    "\n",
    "print(\"Welcome to this Epic quiz\")\n",
    "score_end = float(0)\n",
    "print(\"What is 2 + 5?\")\n",
    "q1_ans = float(input())\n",
    "if q1_ans == 7:\n",
    "    print(\"Great job!\")\n",
    "    score_end = 0 + 1\n",
    "else:\n",
    "    print(\"Better luck next time.\")\n",
    "    score_end = + 0\n",
    "print(f\"You have {score_end} questions correct so far.\")\n",
    "\n",
    "print(\"What is Obama's last name?\")\n",
    "q2_ans = input()\n",
    "if q2_ans == \"Obama\":\n",
    "    print(\"Wow, you're smart!\")\n",
    "    score_end = + 1\n",
    "elif q2_ans == \"obama\":\n",
    "    print(\"Wow, you're smart!\")\n",
    "    score_end = + 1\n",
    "else:\n",
    "    print(\"Wrong.\")\n",
    "    score_end = + 0\n",
    "\n",
    "print(\"How many stars are on the U.S. flag?\")\n",
    "q3_ans = float(input())\n",
    "if q3_ans == 50:\n",
    "    print(\"You're pretty smart, Great Job!\")\n",
    "    score_end = + 1\n",
    "else:\n",
    "    print(\"You are correctn't\")\n",
    "    score_end = + 0\n",
    "\n",
    "print(\"Answer this math question\")\n",
    "print(\"3 + (6(11 + 1 - 4)) / 8 * 2\")\n",
    "q4_ans = float(input())\n",
    "if q4_ans == 15:\n",
    "    print(\"Amazing work, but can you get the last one right?\")\n",
    "    score_end = + 1\n",
    "else:\n",
    "    print(\"Incorrect\")\n",
    "    score_end = + 0\n",
    "\n",
    "print(\"How do you spell pneumonoultramicroscopicsilicovolcanoconiosis\")\n",
    "q5_ans = input()\n",
    "if q5_ans == \"pneumonoultramicroscopicsilicovolcanoconiosis\" :\n",
    "    print(\"You are a genius!\")\n",
    "    score_end = + 1\n",
    "else:\n",
    "    print(\"You need to get a lot smarter\")\n",
    "\n",
    "print(f\"You got {score_end} questions right in total\")\n",
    "if score_end = 5\n",
    "    print(\"You are part of the 1% smartest people in the world!\")\n",
    "elif score_end = 4\n",
    "    print(\"You are clearly very smart, but you could be smarter.\")\n",
    "elif score_end = 3\n",
    "    print(\"You have some knowledge, but lack a meaningful amount.\")\n",
    "elif score_end = 2\n",
    "    print(\"You still have a ways to go.\")\n",
    "elif score_end = 1\n",
    "    print(\"You need lots of work.\")\n",
    "elif score_end = 0\n",
    "    print(\"You are very dumb\")"
   ]
  },
  {
   "cell_type": "markdown",
   "metadata": {},
   "source": [
    "---\n",
    "# Practice Questions"
   ]
  },
  {
   "cell_type": "markdown",
   "metadata": {},
   "source": [
    "## 1. What's missing from this code?"
   ]
  },
  {
   "cell_type": "code",
   "execution_count": 10,
   "metadata": {},
   "outputs": [
    {
     "name": "stdin",
     "output_type": "stream",
     "text": [
      "Temperature:  99\n"
     ]
    },
    {
     "name": "stdout",
     "output_type": "stream",
     "text": [
      "It is hot outside.\n"
     ]
    }
   ],
   "source": [
    "temperature = float(input(f'Temperature: '))\n",
    "if temperature > 90:\n",
    "    print(f'It is hot outside.')\n",
    "else:\n",
    "    print(f'It is not hot out.')"
   ]
  },
  {
   "cell_type": "markdown",
   "metadata": {},
   "source": [
    "## 2. What do you think this next code will print out?\n",
    "**Before you run the code,** take your best guess as to what it will print out.  \n",
    "Put your guess here:  "
   ]
  },
  {
   "cell_type": "code",
   "execution_count": 11,
   "metadata": {},
   "outputs": [
    {
     "name": "stdout",
     "output_type": "stream",
     "text": [
      "x=5\n",
      "y=False\n",
      "z=True\n",
      "Buzz\n"
     ]
    }
   ],
   "source": [
    "x = 5\n",
    "y = x == 6\n",
    "z = x == 5\n",
    "print(f'x={x}')   \n",
    "print(f'y={y}')    \n",
    "print(f'z={z}')    \n",
    "if y:\n",
    "    print(f'Fizz') \n",
    "if z:\n",
    "    print(f'Buzz')"
   ]
  },
  {
   "cell_type": "markdown",
   "metadata": {},
   "source": [
    "## 3. What do you think this code will print out?\n",
    "Again, **take an educated guess before running the code.**  \n",
    "Put your answers in inline comments beside the line of code.  \n",
    "There's an example below.\n",
    "If you're guess isn't right, try and figure out why it outputs what it does."
   ]
  },
  {
   "cell_type": "code",
   "execution_count": 24,
   "metadata": {},
   "outputs": [
    {
     "data": {
      "text/plain": [
       "True"
      ]
     },
     "execution_count": 24,
     "metadata": {},
     "output_type": "execute_result"
    }
   ],
   "source": [
    "# not equals --> !=\n",
    "\n",
    "3 != 1000"
   ]
  },
  {
   "cell_type": "code",
   "execution_count": 25,
   "metadata": {},
   "outputs": [
    {
     "name": "stdout",
     "output_type": "stream",
     "text": [
      "True\n",
      "False\n",
      "True\n",
      "True\n",
      "True\n",
      "False\n",
      "False\n",
      "True\n"
     ]
    },
    {
     "ename": "TypeError",
     "evalue": "'<' not supported between instances of 'int' and 'str'",
     "output_type": "error",
     "traceback": [
      "\u001b[0;31m---------------------------------------------------------------------------\u001b[0m",
      "\u001b[0;31mTypeError\u001b[0m                                 Traceback (most recent call last)",
      "\u001b[0;32m/var/folders/9t/rwjh4cq159sbyp0qpp3hzy4r0000gz/T/ipykernel_52754/500153270.py\u001b[0m in \u001b[0;36m<module>\u001b[0;34m\u001b[0m\n\u001b[1;32m      7\u001b[0m \u001b[0mprint\u001b[0m\u001b[0;34m(\u001b[0m \u001b[0;34m(\u001b[0m\u001b[0;36m2\u001b[0m \u001b[0;34m==\u001b[0m \u001b[0;36m2\u001b[0m\u001b[0;34m)\u001b[0m \u001b[0;34m==\u001b[0m \u001b[0;34m\"True\"\u001b[0m \u001b[0;34m)\u001b[0m\u001b[0;34m\u001b[0m\u001b[0;34m\u001b[0m\u001b[0m\n\u001b[1;32m      8\u001b[0m \u001b[0mprint\u001b[0m\u001b[0;34m(\u001b[0m \u001b[0;34m(\u001b[0m\u001b[0;36m2\u001b[0m \u001b[0;34m==\u001b[0m \u001b[0;36m2\u001b[0m\u001b[0;34m)\u001b[0m \u001b[0;34m==\u001b[0m \u001b[0;32mTrue\u001b[0m \u001b[0;34m)\u001b[0m\u001b[0;34m\u001b[0m\u001b[0;34m\u001b[0m\u001b[0m\n\u001b[0;32m----> 9\u001b[0;31m \u001b[0mprint\u001b[0m\u001b[0;34m(\u001b[0m\u001b[0;36m3\u001b[0m \u001b[0;34m<\u001b[0m \u001b[0;34m\"3\"\u001b[0m\u001b[0;34m)\u001b[0m\u001b[0;34m\u001b[0m\u001b[0;34m\u001b[0m\u001b[0m\n\u001b[0m",
      "\u001b[0;31mTypeError\u001b[0m: '<' not supported between instances of 'int' and 'str'"
     ]
    }
   ],
   "source": [
    "print(\"3\" == \"3\")           \n",
    "print(\" 3\" == \"3\")          \n",
    "print(3 < 4)                \n",
    "print(3 < 10)               \n",
    "print(\"3\" < \"4\")            \n",
    "print(\"3\" < \"10\")           \n",
    "print( (2 == 2) == \"True\" )\n",
    "print( (2 == 2) == True )   \n",
    "print(3 < \"3\")              "
   ]
  },
  {
   "cell_type": "markdown",
   "metadata": {},
   "source": [
    "---\n",
    "# Problem Set\n",
    "\n",
    "Create your own quiz with five or more questions. You can ask questions that require:\n",
    "1. a number as an answer (e.g., What is 1+1?)\n",
    "2. text (e.g. What is Harry Potter's last name?)\n",
    "3. a selection (Which of these choices are correct? A, B, or C?) \n",
    "\n",
    "If you have the user enter non-numeric answers, think and cover the different ways a user could enter a correct answer. For example, if the answer is “a”, would “A” also be acceptable? \n",
    "1. Let the user know if he or she gets the question correct. Print a message depending on the user's answer.\n",
    "2. You need to keep track of how many questions they get correct.\n",
    "3. At the end of the program print the percentage of questions the user gets right."
   ]
  },
  {
   "cell_type": "code",
   "execution_count": 3,
   "metadata": {},
   "outputs": [
    {
     "ename": "SyntaxError",
     "evalue": "unexpected EOF while parsing (180176740.py, line 21)",
     "output_type": "error",
     "traceback": [
      "\u001b[0;36m  File \u001b[0;32m\"/var/folders/9t/rwjh4cq159sbyp0qpp3hzy4r0000gz/T/ipykernel_98075/180176740.py\"\u001b[0;36m, line \u001b[0;32m21\u001b[0m\n\u001b[0;31m    q4_ans == input()\u001b[0m\n\u001b[0m                     ^\u001b[0m\n\u001b[0;31mSyntaxError\u001b[0m\u001b[0;31m:\u001b[0m unexpected EOF while parsing\n"
     ]
    }
   ],
   "source": [
    "print(\"What is 2 + 5?\")\n",
    "q1_ans = float(input())\n",
    "if q1_ans == 7:\n",
    "    print(\"Great job!\")\n",
    "else:\n",
    "    print(\"Better luck next time.\")\n",
    "    \n",
    "print(\"What is Obama's last name?\")\n",
    "q2_ans = input()\n",
    "if q2_ans == \"Obama\" or \"obama\":\n",
    "    print(\"Wow, you're smart!\")\n",
    "else:\n",
    "    print(\"Wrong.\")\n",
    "    \n",
    "print(\"How many stars are on the U.S. flag?\")\n",
    "q3_ans = float(input())\n",
    "if q3_ans == 50:\n",
    "    print(\"You're very smart, Great Job!\")\n",
    "    \n",
    "print(\n",
    "q4_ans == input()\n"
   ]
  },
  {
   "cell_type": "markdown",
   "metadata": {},
   "source": [
    "# Requirements\n",
    "\n",
    "* Has five or more questions \n",
    "* Give the user feedback per question \n",
    "* Keep track of correct answers\n",
    "* Give them their outcome at the end\n",
    "* Should follow *style guidelines* for naming of variables and use of whitespace -- **READABILITY**"
   ]
  },
  {
   "cell_type": "code",
   "execution_count": null,
   "metadata": {},
   "outputs": [],
   "source": []
  }
 ],
 "metadata": {
  "kernelspec": {
   "display_name": "Python 3 (ipykernel)",
   "language": "python",
   "name": "python3"
  },
  "language_info": {
   "codemirror_mode": {
    "name": "ipython",
    "version": 3
   },
   "file_extension": ".py",
   "mimetype": "text/x-python",
   "name": "python",
   "nbconvert_exporter": "python",
   "pygments_lexer": "ipython3",
   "version": "3.8.9"
  }
 },
 "nbformat": 4,
 "nbformat_minor": 4
}
